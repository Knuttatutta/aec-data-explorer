{
 "cells": [
  {
   "cell_type": "code",
   "id": "initial_id",
   "metadata": {
    "collapsed": true,
    "ExecuteTime": {
     "end_time": "2024-07-05T14:18:00.263152Z",
     "start_time": "2024-07-05T14:17:59.247488Z"
    }
   },
   "source": [
    "import json\n",
    "\n",
    "from specklepy.api.wrapper import StreamWrapper\n",
    "from specklepy.api.client import SpeckleClient\n",
    "from specklepy.api.credentials import get_default_account\n",
    "from specklepy.core.api.operations import serialize\n",
    "\n",
    "\n",
    "def fetch_speckle_data(stream_url, commit_id):\n",
    "    # Initialize the StreamWrapper with the provided stream URL\n",
    "    wrapper = StreamWrapper(stream_url)\n",
    "    \n",
    "    # Get the server URL and stream ID from the wrapper\n",
    "    server_url = wrapper.server_url\n",
    "    stream_id = wrapper.stream_id\n",
    "    \n",
    "    # Initialize the SpeckleClient\n",
    "    client = SpeckleClient(host=server_url)\n",
    "    \n",
    "    # Authenticate using the default account\n",
    "    account = get_default_account()\n",
    "    client.authenticate(token=account.token)\n",
    "    \n",
    "    # Get the specified commit\n",
    "    commit = client.commit.get(stream_id, commit_id)\n",
    "    \n",
    "    # Retrieve the object data\n",
    "    obj_id = commit.referencedObject\n",
    "    obj = client.object.get(stream_id, obj_id)\n",
    "    \n",
    "    return obj\n",
    "\n",
    "# Example usage\n",
    "stream_url = \"https://speckle.xyz/streams/7ce9010d71\"\n",
    "commit_id = \"6fd6afbff0\"\n",
    "\n",
    "data = serialize(fetch_speckle_data(stream_url, commit_id))\n",
    "print(data)"
   ],
   "outputs": [
    {
     "name": "stderr",
     "output_type": "stream",
     "text": [
      "C:\\Users\\909587\\AppData\\Local\\Temp\\ipykernel_186744\\31765811.py:22: DeprecationWarning: Call to deprecated method authenticate. (Renamed: please use `authenticate_with_account` or `authenticate_with_token` instead.) -- Deprecated since version 2.6.0.\n",
      "  client.authenticate(token=account.token)\n"
     ]
    },
    {
     "name": "stdout",
     "output_type": "stream",
     "text": [
      "{\"id\":\"a56b89ee69ef890f509f2701581c979b\",\"speckle_type\":\"Speckle.Core.Models.Collection\",\"totalChildrenCount\":0,\"applicationId\":\"Root\",\"collectionType\":\"Navisworks Model\",\"elements\":[{\"id\":\"ae39532884acfc1ef0d8782a4337a55b\",\"speckle_type\":\"reference\",\"totalChildrenCount\":0,\"applicationId\":null,\"referencedId\":\"cbd1536ab539d13e574fe1ee7b6228ae\",\"units\":null},{\"id\":\"c3605d06c4f98e73fb5f0cd63859bfee\",\"speckle_type\":\"reference\",\"totalChildrenCount\":0,\"applicationId\":null,\"referencedId\":\"2b45173d1158ec13d79a31156c72a497\",\"units\":null},{\"id\":\"9e2f279dab4fec8a418ae9c2bd807538\",\"speckle_type\":\"reference\",\"totalChildrenCount\":0,\"applicationId\":null,\"referencedId\":\"783a01d71dcffbf8577dcfd5a13a36e8\",\"units\":null},{\"id\":\"080428d59c3b0e17aaa5886a1c831674\",\"speckle_type\":\"reference\",\"totalChildrenCount\":0,\"applicationId\":null,\"referencedId\":\"8c693c73d9988feca66040c07e3f0b34\",\"units\":null},{\"id\":\"fd4a41c92882f5e5ff2c66198922f8ae\",\"speckle_type\":\"reference\",\"totalChildrenCount\":0,\"applicationId\":null,\"referencedId\":\"d1bd8cf6102cca9301c124952f744c20\",\"units\":null},{\"id\":\"ed50a74bb0d35b9c3d63feaa8dddf644\",\"speckle_type\":\"reference\",\"totalChildrenCount\":0,\"applicationId\":null,\"referencedId\":\"eb70bb8a92c308ef53aa9705b453491c\",\"units\":null}],\"name\":\"23A ONA - Data Check.nwf\",\"units\":\"Millimeters\",\"views\":[{\"id\":\"b7ba6a0ed0e0b3f0a3ae13383bc76859\",\"speckle_type\":\"Objects.BuiltElements.View:Objects.BuiltElements.View3D\",\"totalChildrenCount\":0,\"Aspect Ratio\":1.5381239714755897,\"Camera Type\":\"PerspectiveCamera\",\"Clipping Planes\":\"{}\",\"Field of View\":1.0821041362364843,\"Focal Distance\":72985.56005854478,\"Zoom Strategy\":\"FieldOfView\",\"Zoom Value\":72.98556005854478,\"applicationId\":\"Commit View\",\"boundingBox\":null,\"forwardDirection\":{\"id\":\"81fa5d963d76168e5e424de45a32962a\",\"speckle_type\":\"Objects.Geometry.Vector\",\"totalChildrenCount\":0,\"applicationId\":null,\"bbox\":null,\"units\":\"m\",\"x\":-0.16611838342475543,\"y\":-0.7450671772697955,\"z\":-0.6459718136602906},\"isOrthogonal\":false,\"name\":\"Active View\",\"origin\":{\"id\":\"64bc1cbd335d1d45fedb563a4b3ad707\",\"speckle_type\":\"Objects.Geometry.Point\",\"totalChildrenCount\":0,\"applicationId\":null,\"bbox\":null,\"units\":\"m\",\"x\":449395.9138288768,\"y\":210381.95235238606,\"z\":125.35532270639047},\"target\":{\"id\":\"5f5ebaaccaf7fe67ae16c95aa1516bed\",\"speckle_type\":\"Objects.Geometry.Point\",\"totalChildrenCount\":0,\"applicationId\":null,\"bbox\":null,\"units\":\"m\",\"x\":449383.78958562657,\"y\":210327.57320717178,\"z\":78.20870810436024},\"units\":null,\"upDirection\":{\"id\":\"1b73394a3e51e8ee7b5e80349af1ed78\",\"speckle_type\":\"Objects.Geometry.Vector\",\"totalChildrenCount\":0,\"applicationId\":null,\"bbox\":null,\"units\":\"m\",\"x\":-0.14057275211473613,\"y\":-0.6304909875695724,\"z\":0.7633612617604034}},{\"id\":\"3e1afbe4da10c9b68e14203839a7ee0f\",\"speckle_type\":\"Objects.BuiltElements.View:Objects.BuiltElements.View3D\",\"totalChildrenCount\":0,\"Aspect Ratio\":2.010195412064571,\"Camera Type\":\"PerspectiveCamera\",\"Clipping Planes\":\"{}\",\"Field of View\":1.0821041362364843,\"Focal Distance\":110914.76083360107,\"Zoom Strategy\":\"FieldOfView\",\"Zoom Value\":110.91476083360108,\"applicationId\":\"Commit View\",\"boundingBox\":null,\"forwardDirection\":{\"id\":\"56382912202cf44679fa797be9ed4425\",\"speckle_type\":\"Objects.Geometry.Vector\",\"totalChildrenCount\":0,\"applicationId\":null,\"bbox\":null,\"units\":\"m\",\"x\":9.842504457154007e-16,\"y\":-0.7071067811865426,\"z\":-0.7071067811865525},\"isOrthogonal\":false,\"name\":\"Home View\",\"origin\":{\"id\":\"86fce292d11f0c74c0e37042d291402e\",\"speckle_type\":\"Objects.Geometry.Point\",\"totalChildrenCount\":0,\"applicationId\":null,\"bbox\":null,\"units\":\"m\",\"x\":449391.934,\"y\":210404.8449783587,\"z\":142.31324430913998},\"target\":{\"id\":\"1fa207a188d99c8f16303232bc55e568\",\"speckle_type\":\"Objects.Geometry.Point\",\"totalChildrenCount\":0,\"applicationId\":null,\"bbox\":null,\"units\":\"m\",\"x\":449391.934,\"y\":210326.4163988396,\"z\":63.884664790016004},\"units\":null,\"upDirection\":{\"id\":\"6ff911ea6e05d506002d685a3830b312\",\"speckle_type\":\"Objects.Geometry.Vector\",\"totalChildrenCount\":0,\"applicationId\":null,\"bbox\":null,\"units\":\"m\",\"x\":-2.2928516480887276e-15,\"y\":-0.7071067811865523,\"z\":0.7071067811865426}}]}\n"
     ]
    },
    {
     "name": "stderr",
     "output_type": "stream",
     "text": [
      "D:\\Development\\AEC Data Explorer\\venv\\Lib\\site-packages\\specklepy\\serialization\\base_object_serializer.py:432: SpeckleWarning: Could not find the referenced child object of id `cbd1536ab539d13e574fe1ee7b6228ae` in the given read transport: SQLite\n",
      "  warnings.warn(\n",
      "D:\\Development\\AEC Data Explorer\\venv\\Lib\\site-packages\\specklepy\\serialization\\base_object_serializer.py:432: SpeckleWarning: Could not find the referenced child object of id `2b45173d1158ec13d79a31156c72a497` in the given read transport: SQLite\n",
      "  warnings.warn(\n",
      "D:\\Development\\AEC Data Explorer\\venv\\Lib\\site-packages\\specklepy\\serialization\\base_object_serializer.py:432: SpeckleWarning: Could not find the referenced child object of id `783a01d71dcffbf8577dcfd5a13a36e8` in the given read transport: SQLite\n",
      "  warnings.warn(\n",
      "D:\\Development\\AEC Data Explorer\\venv\\Lib\\site-packages\\specklepy\\serialization\\base_object_serializer.py:432: SpeckleWarning: Could not find the referenced child object of id `8c693c73d9988feca66040c07e3f0b34` in the given read transport: SQLite\n",
      "  warnings.warn(\n",
      "D:\\Development\\AEC Data Explorer\\venv\\Lib\\site-packages\\specklepy\\serialization\\base_object_serializer.py:432: SpeckleWarning: Could not find the referenced child object of id `d1bd8cf6102cca9301c124952f744c20` in the given read transport: SQLite\n",
      "  warnings.warn(\n",
      "D:\\Development\\AEC Data Explorer\\venv\\Lib\\site-packages\\specklepy\\serialization\\base_object_serializer.py:432: SpeckleWarning: Could not find the referenced child object of id `eb70bb8a92c308ef53aa9705b453491c` in the given read transport: SQLite\n",
      "  warnings.warn(\n"
     ]
    }
   ],
   "execution_count": 4
  },
  {
   "metadata": {
    "ExecuteTime": {
     "end_time": "2024-07-05T14:18:02.545227Z",
     "start_time": "2024-07-05T14:18:02.540079Z"
    }
   },
   "cell_type": "code",
   "source": [
    "import json\n",
    "with open('static/test_files/speckle/navisworks_test_1.json', 'w+') as f:\n",
    "    json.dump(data, f)"
   ],
   "id": "4a90382b2821e0e1",
   "outputs": [],
   "execution_count": 5
  },
  {
   "metadata": {},
   "cell_type": "code",
   "outputs": [],
   "execution_count": null,
   "source": "",
   "id": "4b5e32578c287122"
  }
 ],
 "metadata": {
  "kernelspec": {
   "display_name": "Python 3",
   "language": "python",
   "name": "python3"
  },
  "language_info": {
   "codemirror_mode": {
    "name": "ipython",
    "version": 2
   },
   "file_extension": ".py",
   "mimetype": "text/x-python",
   "name": "python",
   "nbconvert_exporter": "python",
   "pygments_lexer": "ipython2",
   "version": "2.7.6"
  }
 },
 "nbformat": 4,
 "nbformat_minor": 5
}
