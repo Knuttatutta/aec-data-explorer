{
 "cells": [
  {
   "cell_type": "code",
   "execution_count": null,
   "id": "a38c3717-dab5-4a2b-92ea-1fcc78534218",
   "metadata": {},
   "outputs": [],
   "source": [
    "!pip install specklepy"
   ]
  },
  {
   "cell_type": "code",
   "execution_count": 1,
   "id": "f08e82bc-9e58-4726-ab2d-2c31e5e9bc79",
   "metadata": {
    "ExecuteTime": {
     "end_time": "2024-07-05T14:44:58.433287Z",
     "start_time": "2024-07-05T14:44:57.208836Z"
    }
   },
   "outputs": [],
   "source": [
    "import json\n",
    "import os\n",
    "import re\n",
    "\n",
    "from specklepy.api.operations import serialize\n",
    "from specklepy.api.client import SpeckleClient\n",
    "from specklepy.api.wrapper import StreamWrapper\n",
    "from specklepy.transports.server import ServerTransport\n",
    "from specklepy.api import operations"
   ]
  },
  {
   "cell_type": "code",
   "execution_count": 2,
   "id": "d669775b-9549-451a-b74b-ec14df42bfbd",
   "metadata": {
    "ExecuteTime": {
     "end_time": "2024-07-05T14:44:58.433287Z",
     "start_time": "2024-07-05T14:44:57.208836Z"
    }
   },
   "outputs": [
    {
     "name": "stderr",
     "output_type": "stream",
     "text": [
      "/usr/local/python/3.10.13/lib/python3.10/site-packages/specklepy/core/api/wrapper.py:216: SpeckleWarning: No local account found for server rhdhv.speckle.xyz\n",
      "  warn(f\"No local account found for server {self.host}\", SpeckleWarning)\n"
     ]
    }
   ],
   "source": [
    "SPECKLE_API_KEY = os.environ[\"SPECKLE_API_KEY\"]\n",
    "\n",
    "# Example usage\n",
    "speckle_url = \"https://rhdhv.speckle.xyz/projects/1d1b19f663/models/8a3d0d30a4\"\n",
    "\n",
    "# Initialize the SpeckleClient\n",
    "client = SpeckleClient(host=\"https://rhdhv.speckle.xyz/\")\n",
    "\n",
    "# Authenticate using token\n",
    "client.authenticate_with_token(SPECKLE_API_KEY)\n",
    "\n",
    "wrapper = StreamWrapper(speckle_url)\n",
    "commit_id = wrapper.commit_id\n",
    "\n",
    "# Fetch commit and create a transport for operations\n",
    "if commit_id is None:\n",
    "    stream = client.stream.get(wrapper.stream_id)\n",
    "    model = next((branch for branch in stream.branches.items\n",
    "                  if branch.id == wrapper.model_id), None)\n",
    "    commit = model.commits.items[0] if model else None\n",
    "\n",
    "transport = ServerTransport(client=client, stream_id=wrapper.stream_id)\n",
    "\n",
    "# Retrieve and process the referenced object if commit is available\n",
    "data = (operations.receive(obj_id=commit.referencedObject,\n",
    "                 remote_transport=transport) if commit else None)\n",
    "    "
   ]
  },
  {
   "cell_type": "code",
   "execution_count": 3,
   "id": "2a43931cad5a3d44",
   "metadata": {
    "ExecuteTime": {
     "end_time": "2024-07-05T14:44:58.465235Z",
     "start_time": "2024-07-05T14:44:58.433287Z"
    }
   },
   "outputs": [],
   "source": [
    "sers = serialize(data)"
   ]
  },
  {
   "cell_type": "code",
   "execution_count": null,
   "id": "2a9262702352e8f1",
   "metadata": {
    "ExecuteTime": {
     "end_time": "2024-07-05T14:44:58.471479Z",
     "start_time": "2024-07-05T14:44:58.465235Z"
    }
   },
   "outputs": [],
   "source": [
    "\n"
   ]
  },
  {
   "cell_type": "code",
   "execution_count": 4,
   "id": "4a90382b2821e0e1",
   "metadata": {
    "ExecuteTime": {
     "end_time": "2024-07-05T14:44:58.487345Z",
     "start_time": "2024-07-05T14:44:58.471479Z"
    }
   },
   "outputs": [],
   "source": [
    "import json\n",
    "with open('static/test_files/speckle/revit_advanced_sample_structural.json', 'w+') as f:\n",
    "    json.dump(sers, f)"
   ]
  },
  {
   "cell_type": "code",
   "execution_count": 5,
   "id": "4b5e32578c287122",
   "metadata": {},
   "outputs": [
    {
     "data": {
      "text/html": [
       "\n",
       "        <iframe\n",
       "            width=\"974\"\n",
       "            height=\"550\"\n",
       "            src=\"https://rhdhv.speckle.xyz/projects/1d1b19f663/models/8a3d0d30a4#embed=%7B%22isEnabled%22%3Atrue%2C%22isTransparent%22%3Atrue%7D\"\n",
       "            frameborder=\"0\"\n",
       "            allowfullscreen\n",
       "            \n",
       "        ></iframe>\n",
       "        "
      ],
      "text/plain": [
       "<IPython.lib.display.IFrame at 0x736ea13122c0>"
      ]
     },
     "execution_count": 5,
     "metadata": {},
     "output_type": "execute_result"
    }
   ],
   "source": [
    "src = f'{speckle_url}#embed=%7B%22isEnabled%22%3Atrue%2C%22isTransparent%22%3Atrue%7D'\n",
    "\n",
    "import IPython\n",
    "IPython.display.IFrame(src, width=974, height=550)"
   ]
  },
  {
   "cell_type": "code",
   "execution_count": null,
   "id": "10c3d17e-46e1-4581-8180-b770b302ae7d",
   "metadata": {},
   "outputs": [],
   "source": []
  }
 ],
 "metadata": {
  "kernelspec": {
   "display_name": "Python 3 (ipykernel)",
   "language": "python",
   "name": "python3"
  },
  "language_info": {
   "codemirror_mode": {
    "name": "ipython",
    "version": 3
   },
   "file_extension": ".py",
   "mimetype": "text/x-python",
   "name": "python",
   "nbconvert_exporter": "python",
   "pygments_lexer": "ipython3",
   "version": "3.10.13"
  }
 },
 "nbformat": 4,
 "nbformat_minor": 5
}
