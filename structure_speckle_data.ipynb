{
 "cells": [
  {
   "cell_type": "code",
   "id": "initial_id",
   "metadata": {
    "collapsed": true,
    "ExecuteTime": {
     "end_time": "2024-07-05T12:40:20.302977Z",
     "start_time": "2024-07-05T12:40:20.300020Z"
    }
   },
   "source": [
    "import json\n",
    "from copy import deepcopy"
   ],
   "outputs": [],
   "execution_count": 2
  },
  {
   "metadata": {
    "ExecuteTime": {
     "end_time": "2024-07-05T13:50:35.122059Z",
     "start_time": "2024-07-05T13:50:33.076769Z"
    }
   },
   "cell_type": "code",
   "source": [
    "with open('static/test_files/MEP_OLVG_test.json') as f:\n",
    "    data = json.load(f)\n",
    "with open('static/test_files/MEP_test.json') as f:\n",
    "    data2 = json.load(f)\n",
    "\n",
    "attributes_to_clean = ['applicationId', 'totalChildrenCount', 'collectionType']\n",
    "unprocessed_types = set()\n",
    "\n",
    "def process_speckle_data(data):\n",
    "    def process_dict(d):\n",
    "        keys_to_delete = []\n",
    "        items_to_add = {}\n",
    "        \n",
    "        for key, value in d.items():\n",
    "            if key == 'speckle_type':\n",
    "                d[key] = value.split('.')[-1]\n",
    "            elif key in ['elements', 'demands', 'parameters'] and isinstance(value, list):\n",
    "                d[key] = process_elements(value)\n",
    "            elif '@' in key:\n",
    "                new_key = key.replace('@', '')\n",
    "                items_to_add[new_key] = process_value(value)\n",
    "                keys_to_delete.append(key)\n",
    "            elif key in attributes_to_clean:\n",
    "                keys_to_delete.append(key)\n",
    "            else:\n",
    "                d[key] = process_value(value)\n",
    "        \n",
    "        for key in keys_to_delete:\n",
    "            del d[key]\n",
    "        d.update(items_to_add)\n",
    "        \n",
    "        return d\n",
    "    \n",
    "    def process_list(lst):\n",
    "        return [process_value(item) for item in lst]\n",
    "    \n",
    "    def process_value(val):\n",
    "        if isinstance(val, dict):\n",
    "            return process_dict(val)\n",
    "        elif isinstance(val, list):\n",
    "            return process_list(val)\n",
    "        else:\n",
    "            unprocessed_types.add(type(val))\n",
    "            return val\n",
    "    \n",
    "    def process_elements(elements):\n",
    "        processed_elements = {}\n",
    "        for i, item in enumerate(elements):\n",
    "            if isinstance(item, dict):\n",
    "                processed_item = process_value(item)\n",
    "                if 'speckle_type' in processed_item:\n",
    "                    key = processed_item['name']\n",
    "                    # Ensure unique keys by appending a number if necessary\n",
    "                    while key in processed_elements:\n",
    "                        key = f\"{key}_{i}\"\n",
    "                    processed_elements[key] = processed_item\n",
    "                else:\n",
    "                    # If no speckle_type, use a default key\n",
    "                    key = f\"unknown_type_{i}\"\n",
    "                    processed_elements[key] = processed_item\n",
    "            else:\n",
    "                # Handle case where item is not a dictionary\n",
    "                key = f\"invalid_element_{i}\"\n",
    "                processed_elements[key] = process_value(item)\n",
    "        return processed_elements\n",
    "    \n",
    "    return process_value(data)\n",
    "\n",
    "data_to_process = deepcopy(data)\n",
    "data2_to_process = deepcopy(data2)\n",
    "processed_data = process_speckle_data(data_to_process)\n",
    "processed_data2 = process_speckle_data(data2_to_process)\n",
    "# print(unprocessed_types)\n",
    "\n",
    "# process_speckle_data(processed_data2)\n"
   ],
   "id": "2e64d7abaff98d98",
   "outputs": [],
   "execution_count": 17
  },
  {
   "metadata": {
    "ExecuteTime": {
     "end_time": "2024-07-05T12:01:43.944203Z",
     "start_time": "2024-07-05T12:01:42.280038Z"
    }
   },
   "cell_type": "code",
   "source": [
    "with open('temp_json.json') as f:\n",
    "    data = json.dump(processed_data, f, indent=4)"
   ],
   "id": "386646b969edcd9f",
   "outputs": [
    {
     "name": "stdout",
     "output_type": "stream",
     "text": [
      "{<class 'float'>, <class 'int'>}\n"
     ]
    }
   ],
   "execution_count": 26
  },
  {
   "metadata": {},
   "cell_type": "code",
   "outputs": [],
   "execution_count": null,
   "source": "",
   "id": "62795f4a3e93442"
  }
 ],
 "metadata": {
  "kernelspec": {
   "display_name": "venv",
   "language": "python",
   "name": "venv"
  },
  "language_info": {
   "codemirror_mode": {
    "name": "ipython",
    "version": 2
   },
   "file_extension": ".py",
   "mimetype": "text/x-python",
   "name": "python",
   "nbconvert_exporter": "python",
   "pygments_lexer": "ipython2",
   "version": "2.7.6"
  }
 },
 "nbformat": 4,
 "nbformat_minor": 5
}
